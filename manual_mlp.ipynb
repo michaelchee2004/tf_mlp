{
 "cells": [
  {
   "cell_type": "markdown",
   "metadata": {},
   "source": [
    "# Manual implementation of MLP in TF\n",
    "The implementation is on MNIST."
   ]
  },
  {
   "cell_type": "code",
   "execution_count": 21,
   "metadata": {},
   "outputs": [],
   "source": [
    "import tensorflow as tf\n",
    "import numpy as np\n",
    "\n",
    "n_inputs = 28*28\n",
    "n_hidden1 = 300\n",
    "n_hidden2 = 100\n",
    "n_outputs = 10\n",
    "\n",
    "# Important!\n",
    "def reset_graph(seed=42):\n",
    "    tf.reset_default_graph()\n",
    "    tf.set_random_seed(seed)\n",
    "    np.random.seed(seed)\n",
    "\n",
    "reset_graph()\n",
    "\n",
    "X = tf.placeholder(tf.float32, shape=(None, n_inputs), name=\"X\")\n",
    "y = tf.placeholder(tf.int32, shape=(None), name=\"y\")"
   ]
  },
  {
   "cell_type": "markdown",
   "metadata": {},
   "source": [
    "### Create a function which generates a neural layer sub-graph when called"
   ]
  },
  {
   "cell_type": "code",
   "execution_count": 22,
   "metadata": {},
   "outputs": [],
   "source": [
    "def neuron_layer(X, n_neurons, name, activation=None):\n",
    "    \"\"\"\n",
    "    Create a sub-graph representing a neuron layer, \n",
    "    along with initialising the weights.\n",
    "    \n",
    "    Args:\n",
    "        X (tf node): either the placeholder input or the output from another layer\n",
    "        n_neurons (int): number of neurons\n",
    "        name (strg): name of resulting node\n",
    "        activation (tf function name): if None, just do a linear combination;\n",
    "                          else apply the function name to the linear combination\n",
    "    \n",
    "    Returns:\n",
    "        The activated output.\n",
    "    \n",
    "    \"\"\"\n",
    "    with tf.name_scope(name):\n",
    "        n_inputs = int(X.get_shape()[1])\n",
    "        \n",
    "        stddev = 2/np.sqrt(n_inputs)\n",
    "        init = tf.truncated_normal((n_inputs, n_neurons), stddev=stddev)\n",
    "        W = tf.Variable(init, name=\"kernal\")\n",
    "        \n",
    "        b = tf.Variable(tf.zeros([n_neurons]), name=\"bias\")\n",
    "        \n",
    "        Z = tf.matmul(X, W) + b\n",
    "        \n",
    "        if activation is not None:\n",
    "            return activation(Z)\n",
    "        else:\n",
    "            return Z\n"
   ]
  },
  {
   "cell_type": "markdown",
   "metadata": {},
   "source": [
    "### Link multiple neuron layer sub-graphs together"
   ]
  },
  {
   "cell_type": "code",
   "execution_count": 23,
   "metadata": {},
   "outputs": [],
   "source": [
    "with tf.name_scope(\"dnn\"):\n",
    "    hidden_1 = neuron_layer(X, \n",
    "                            n_hidden1, \n",
    "                            name=\"hidden1\", \n",
    "                            activation=tf.nn.relu)\n",
    "    hidden_2 = neuron_layer(hidden_1, \n",
    "                            n_hidden2, \n",
    "                            name=\"hidden2\", \n",
    "                            activation=tf.nn.relu)\n",
    "    logits = neuron_layer(hidden_2, \n",
    "                            n_outputs, \n",
    "                            name=\"outputs\")\n"
   ]
  },
  {
   "cell_type": "markdown",
   "metadata": {},
   "source": [
    "### Objective function"
   ]
  },
  {
   "cell_type": "code",
   "execution_count": 24,
   "metadata": {},
   "outputs": [],
   "source": [
    "with tf.name_scope(\"loss\"):\n",
    "    xentropy = tf.nn.sparse_softmax_cross_entropy_with_logits(labels=y, logits=logits)\n",
    "    loss = tf.reduce_mean(xentropy, name=\"loss\")\n"
   ]
  },
  {
   "cell_type": "markdown",
   "metadata": {},
   "source": [
    "### Optimisation"
   ]
  },
  {
   "cell_type": "code",
   "execution_count": 25,
   "metadata": {},
   "outputs": [],
   "source": [
    "learning_rate = 0.01\n",
    "\n",
    "with tf.name_scope(\"train\"):\n",
    "    optimizer = tf.train.GradientDescentOptimizer(learning_rate)\n",
    "    training_op = optimizer.minimize(loss)\n"
   ]
  },
  {
   "cell_type": "markdown",
   "metadata": {},
   "source": [
    "### Evaluation"
   ]
  },
  {
   "cell_type": "code",
   "execution_count": 26,
   "metadata": {},
   "outputs": [],
   "source": [
    "with tf.name_scope(\"eval\"):\n",
    "    correct = tf.nn.in_top_k(logits, y, 1)\n",
    "    accuracy = tf.reduce_mean(tf.cast(correct, tf.float32))"
   ]
  },
  {
   "cell_type": "markdown",
   "metadata": {},
   "source": [
    "### Some operational steps"
   ]
  },
  {
   "cell_type": "code",
   "execution_count": 27,
   "metadata": {},
   "outputs": [],
   "source": [
    "# Important!\n",
    "init = tf.global_variables_initializer()\n",
    "saver = tf.train.Saver()\n"
   ]
  },
  {
   "cell_type": "markdown",
   "metadata": {},
   "source": [
    "### Now we're quite ready!"
   ]
  },
  {
   "cell_type": "markdown",
   "metadata": {},
   "source": [
    "### Prepare data"
   ]
  },
  {
   "cell_type": "code",
   "execution_count": 28,
   "metadata": {},
   "outputs": [
    {
     "name": "stdout",
     "output_type": "stream",
     "text": [
      "Downloading data from https://storage.googleapis.com/tensorflow/tf-keras-datasets/mnist.npz\n",
      "11493376/11490434 [==============================] - 11s 1us/step\n"
     ]
    }
   ],
   "source": [
    "(X_train, y_train), (X_test, y_test) = tf.keras.datasets.mnist.load_data()\n",
    "X_train = X_train.astype(np.float32).reshape(-1, 28*28) / 255.0\n",
    "X_test = X_test.astype(np.float32).reshape(-1, 28*28) / 255.0\n",
    "y_train = y_train.astype(np.int32)\n",
    "y_test = y_test.astype(np.int32)\n",
    "X_valid, X_train = X_train[:5000], X_train[5000:]\n",
    "y_valid, y_train = y_train[:5000], y_train[5000:]"
   ]
  },
  {
   "cell_type": "code",
   "execution_count": 29,
   "metadata": {},
   "outputs": [],
   "source": [
    "def shuffle_batch(X, y, batch_size):\n",
    "    rnd_idx = np.random.permutation(len(X))\n",
    "    n_batches = len(X) // batch_size\n",
    "    for batch_idx in np.array_split(rnd_idx, n_batches):\n",
    "        X_batch, y_batch = X[batch_idx], y[batch_idx]\n",
    "        yield X_batch, y_batch"
   ]
  },
  {
   "cell_type": "markdown",
   "metadata": {},
   "source": [
    "### Run session"
   ]
  },
  {
   "cell_type": "code",
   "execution_count": 34,
   "metadata": {},
   "outputs": [
    {
     "name": "stdout",
     "output_type": "stream",
     "text": [
      "0 Batch accuracy:  0.94 ValAccuracy:  0.916\n",
      "1 Batch accuracy:  0.96 ValAccuracy:  0.9352\n",
      "2 Batch accuracy:  0.92 ValAccuracy:  0.9456\n",
      "3 Batch accuracy:  0.96 ValAccuracy:  0.9532\n",
      "4 Batch accuracy:  0.94 ValAccuracy:  0.9552\n",
      "5 Batch accuracy:  1.0 ValAccuracy:  0.9592\n",
      "6 Batch accuracy:  0.94 ValAccuracy:  0.9616\n",
      "7 Batch accuracy:  0.98 ValAccuracy:  0.9634\n",
      "8 Batch accuracy:  0.96 ValAccuracy:  0.965\n",
      "9 Batch accuracy:  0.92 ValAccuracy:  0.9668\n",
      "10 Batch accuracy:  0.98 ValAccuracy:  0.9682\n",
      "11 Batch accuracy:  0.98 ValAccuracy:  0.9662\n",
      "12 Batch accuracy:  0.98 ValAccuracy:  0.9698\n",
      "13 Batch accuracy:  1.0 ValAccuracy:  0.9708\n",
      "14 Batch accuracy:  0.94 ValAccuracy:  0.9718\n",
      "15 Batch accuracy:  1.0 ValAccuracy:  0.9726\n",
      "16 Batch accuracy:  1.0 ValAccuracy:  0.9736\n",
      "17 Batch accuracy:  1.0 ValAccuracy:  0.9748\n",
      "18 Batch accuracy:  0.98 ValAccuracy:  0.9748\n",
      "19 Batch accuracy:  1.0 ValAccuracy:  0.9758\n",
      "20 Batch accuracy:  1.0 ValAccuracy:  0.9754\n",
      "21 Batch accuracy:  0.98 ValAccuracy:  0.9756\n",
      "22 Batch accuracy:  0.98 ValAccuracy:  0.9748\n",
      "23 Batch accuracy:  0.98 ValAccuracy:  0.9774\n",
      "24 Batch accuracy:  1.0 ValAccuracy:  0.977\n",
      "25 Batch accuracy:  0.98 ValAccuracy:  0.9786\n",
      "26 Batch accuracy:  1.0 ValAccuracy:  0.9782\n",
      "27 Batch accuracy:  0.96 ValAccuracy:  0.976\n",
      "28 Batch accuracy:  0.98 ValAccuracy:  0.9782\n",
      "29 Batch accuracy:  1.0 ValAccuracy:  0.9764\n",
      "30 Batch accuracy:  0.96 ValAccuracy:  0.9776\n",
      "31 Batch accuracy:  0.96 ValAccuracy:  0.9772\n",
      "32 Batch accuracy:  0.98 ValAccuracy:  0.9792\n",
      "33 Batch accuracy:  1.0 ValAccuracy:  0.9782\n",
      "34 Batch accuracy:  1.0 ValAccuracy:  0.9782\n",
      "35 Batch accuracy:  0.98 ValAccuracy:  0.9788\n",
      "36 Batch accuracy:  1.0 ValAccuracy:  0.9778\n",
      "37 Batch accuracy:  1.0 ValAccuracy:  0.9792\n",
      "38 Batch accuracy:  1.0 ValAccuracy:  0.9786\n",
      "39 Batch accuracy:  1.0 ValAccuracy:  0.9786\n"
     ]
    }
   ],
   "source": [
    "n_epochs = 40\n",
    "batch_size = 50\n",
    "\n",
    "with tf.Session() as sess:\n",
    "    \n",
    "    init.run()\n",
    "    \n",
    "    for epoch in range(n_epochs):\n",
    "        for X_batch, y_batch in shuffle_batch(X_train, y_train, batch_size):\n",
    "            sess.run(training_op, feed_dict={X:X_batch, y: y_batch})\n",
    "        \n",
    "        acc_batch = accuracy.eval(feed_dict={X:X_batch, y: y_batch})\n",
    "        acc_val = accuracy.eval(feed_dict={X:X_valid, y: y_valid})\n",
    "        \n",
    "        print(epoch, \"Batch accuracy: \", acc_batch, \"ValAccuracy: \", acc_val)\n",
    "        \n",
    "    save_path = saver.save(sess, \"./my_model_final.ckpt\")\n",
    "\n",
    "            "
   ]
  }
 ],
 "metadata": {
  "kernelspec": {
   "display_name": "Python 3",
   "language": "python",
   "name": "python3"
  },
  "language_info": {
   "codemirror_mode": {
    "name": "ipython",
    "version": 3
   },
   "file_extension": ".py",
   "mimetype": "text/x-python",
   "name": "python",
   "nbconvert_exporter": "python",
   "pygments_lexer": "ipython3",
   "version": "3.6.5"
  }
 },
 "nbformat": 4,
 "nbformat_minor": 2
}
